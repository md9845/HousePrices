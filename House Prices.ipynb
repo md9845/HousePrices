{
 "cells": [
  {
   "cell_type": "code",
   "execution_count": 1,
   "metadata": {},
   "outputs": [],
   "source": [
    "# Kaggle competition for House Prices in Ames, Iowa.\n",
    "# https://www.kaggle.com/c/house-prices-advanced-regression-techniques\n",
    "   \n",
    "__author__ = 'Mike DiPalma'\n",
    "__email__ = 'mdipalma78@gmail.com'"
   ]
  },
  {
   "cell_type": "code",
   "execution_count": 2,
   "metadata": {},
   "outputs": [],
   "source": [
    "import pandas as pd\n",
    "import numpy as np\n",
    "import matplotlib.pyplot as plt\n",
    "import time\n",
    "from sklearn.utils import shuffle\n",
    "from sklearn.ensemble import RandomForestRegressor, GradientBoostingRegressor\n",
    "from sklearn.model_selection import cross_val_score\n",
    "from sklearn.metrics import mean_squared_error\n",
    "from sklearn.linear_model import LinearRegression\n",
    "from sklearn.pipeline import make_pipeline\n",
    "from sklearn.decomposition import PCA\n",
    "from sklearn.preprocessing import StandardScaler\n",
    "from math import sqrt"
   ]
  },
  {
   "cell_type": "code",
   "execution_count": 3,
   "metadata": {},
   "outputs": [],
   "source": [
    "def load_file(file):\n",
    "    '''loads csv to pd dataframe'''\n",
    "    return pd.read_csv(file)\n",
    "\n",
    "def join_dataframes(train, test):    \n",
    "    '''Joins two dataframes and resets the index'''\n",
    "    joined_df = pd.concat([train, test], sort=False)\n",
    "    joined_df = joined_df.reset_index(drop=True) # reset index\n",
    "    return joined_df\n",
    "\n",
    "def clean_dataframe(df, column):\n",
    "    '''removes outliers, replaces NaN values and applies log1p transformation to SalePrice'''\n",
    "    df = df.drop(df[(df['GrLivArea']>4000) & (df['SalePrice']<300000)].index)\n",
    "    for col in ('LotFrontage', 'GarageYrBlt', 'GarageArea', 'GarageCars', 'MasVnrArea', 'BsmtFinSF1', \\\n",
    "                'BsmtFinSF2', 'BsmtUnfSF', 'TotalBsmtSF', 'BsmtFullBath','BsmtHalfBath'):\n",
    "        df[col].fillna(0.0, inplace=True)\n",
    "    for col in ('Alley', 'MasVnrType', 'BsmtQual', 'BsmtCond', 'BsmtExposure', 'BsmtFinType1', 'BsmtFinType2', \\\n",
    "                'Electrical', 'FireplaceQu', 'GarageType', 'GarageFinish', 'GarageQual', 'GarageCond', 'PoolQC', \\\n",
    "                'Fence', 'MiscFeature'):\n",
    "        df[col].fillna('None', inplace=True)\n",
    "    df['log1p' + column] = np.log1p(df[column])\n",
    "    return df\n",
    "\n",
    "def transform_data_types(df):\n",
    "    df['MSSubClass'] = df['MSSubClass'].apply(str)\n",
    "    df['YrSold'] = df['YrSold'].astype(str)\n",
    "    df['MoSold'] = df['MoSold'].astype(str)\n",
    "    df['YearBuilt'] = df['YearBuilt'].astype(str)\n",
    "    df['YearRemodAdd'] = df['YearRemodAdd'].astype(str)\n",
    "    print(\"Transformed numerical features that should be considered as strings.\")\n",
    "\n",
    "def one_hot_encode_feature_df(df, cat_vars=None, num_vars=None, tar_var=None):\n",
    "    '''performs one-hot encoding on all categorical variables and combines result with continous variables'''\n",
    "    cat_df = pd.get_dummies(df[cat_vars], drop_first=True)\n",
    "    num_df = df[num_vars].apply(pd.to_numeric)\n",
    "    tar_df = df[tar_var].apply(pd.to_numeric)\n",
    "    return pd.concat([cat_df, num_df, tar_df], axis=1)#,ignore_index=False)\n",
    "\n",
    "def get_feature_df(df, target):\n",
    "    '''from the clean joined df, prepares the features dataframe for modeling'''\n",
    "    # Split training and test \n",
    "    train_df = df[df['log1pSalePrice'].notnull()]\n",
    "    # Drop log1pSalePrice from training and test dataframes\n",
    "    features_df = train_df.drop(['log1pSalePrice'], axis=1)\n",
    "    return features_df\n",
    "\n",
    "def get_test_df(df, target):\n",
    "    '''from the clean joined df, prepare the test dataframe for modeling'''\n",
    "    # Split training and test \n",
    "    test_df = df[df['log1pSalePrice'].isnull()]\n",
    "    # Drop log1pSalePrice from training and test dataframes\n",
    "    test_df = test_df.drop(['log1pSalePrice'], axis=1)\n",
    "    return test_df\n",
    "\n",
    "def get_target_df(df, target):\n",
    "    '''returns target dataframe'''\n",
    "    # Verify all test records are excluded \n",
    "    df = df[df['log1pSalePrice'].notnull()]\n",
    "    return df[target]\n",
    "\n",
    "def train_model(model, feature_df, target_df, num_procs, mean_rmse, cv_std):\n",
    "    neg_mse = cross_val_score(model, feature_df, target_df, cv=2, n_jobs=num_procs, scoring='neg_mean_squared_error')\n",
    "    cv_rmse_results = np.sqrt(-neg_mse)\n",
    "    mean_rmse[model] = np.mean(cv_rmse_results)\n",
    "    cv_std[model] = np.std(cv_rmse_results)\n",
    "\n",
    "def print_summary(model, mean_mse, cv_std):\n",
    "    print('\\nModel:\\n', model)\n",
    "    print('Average MSE:\\n', mean_rmse[model])\n",
    "    print('Standard deviation during CV:\\n', cv_std[model])\n",
    "    \n",
    "def save_results(model, mean_mse, predictions, feature_importances):\n",
    "    '''saves model, model summary, feature importances, and predictions'''\n",
    "    with open('model.txt', 'w') as file:\n",
    "        file.write(str(model))\n",
    "    feature_importances.to_csv('feature_importances.csv') \n",
    "    np.savetxt('predictions.csv', predictions, delimiter=',')\n",
    "    \n",
    "def create_submission(test_df, test_ID, preds):\n",
    "    test_df['Id'] = test_ID.values.tolist()\n",
    "    test_df['prediction'] = pd.Series(predictions, index=test_df.index)\n",
    "    sub_df = pd.DataFrame({'Id': test_df.Id, 'SalePrice': test_df.prediction})\n",
    "\n",
    "    timestr = time.strftime(\"%Y%m%d-%H%M%S\") \n",
    "\n",
    "    sub_df.to_csv('submission-' + timestr + '.csv', index=False)"
   ]
  },
  {
   "cell_type": "code",
   "execution_count": 4,
   "metadata": {},
   "outputs": [
    {
     "name": "stdout",
     "output_type": "stream",
     "text": [
      "Loading data\n",
      "Transformed numerical features that should be considered as strings.\n",
      "Encoding data\n"
     ]
    }
   ],
   "source": [
    "# Define inputs\n",
    "train_file = 'data/train.csv'\n",
    "test_file = 'data/test.csv'\n",
    "\n",
    "#define variables\n",
    "categorical_vars = ['MSZoning', 'Street', 'Alley', 'LotShape', 'LandContour', 'Utilities', 'LotConfig', 'LandSlope', \\\n",
    "                    'Neighborhood', 'Condition1', 'Condition2', 'BldgType', 'HouseStyle', 'RoofStyle', 'RoofMatl', \\\n",
    "                    'Exterior1st', 'Exterior2nd', 'MasVnrType', 'ExterQual', 'ExterCond', 'Foundation', 'BsmtQual', \\\n",
    "                    'BsmtCond', 'BsmtExposure', 'BsmtFinType1', 'BsmtFinType2', 'Heating', 'HeatingQC', 'CentralAir', \\\n",
    "                    'Electrical', 'KitchenQual', 'Functional', 'FireplaceQu', 'GarageType', 'GarageFinish', \\\n",
    "                    'GarageQual', 'GarageCond', 'PavedDrive', 'PoolQC', 'Fence', 'MiscFeature', 'SaleType', \\\n",
    "                    'SaleCondition', 'MSSubClass', 'YearBuilt', 'YearRemodAdd', 'MoSold', 'YrSold']\n",
    "numeric_vars = ['LotFrontage', 'LotArea', 'OverallQual', 'OverallCond', \\\n",
    "                'MasVnrArea', 'BsmtFinSF1', 'BsmtFinSF2', 'BsmtUnfSF', 'TotalBsmtSF', '1stFlrSF', '2ndFlrSF', \\\n",
    "                'LowQualFinSF', 'GrLivArea', 'BsmtFullBath', 'BsmtHalfBath', 'FullBath', 'HalfBath', 'BedroomAbvGr', \\\n",
    "                'KitchenAbvGr', 'TotRmsAbvGrd', 'Fireplaces', 'GarageYrBlt', 'GarageCars', 'GarageArea', 'WoodDeckSF', \\\n",
    "                'OpenPorchSF', 'EnclosedPorch', '3SsnPorch', 'ScreenPorch', 'PoolArea', 'MiscVal' ]\n",
    "target_var = 'SalePrice'\n",
    "\n",
    "#load data\n",
    "print(\"Loading data\")\n",
    "raw_train_df = load_file(train_file)\n",
    "raw_test_df = load_file(test_file)\n",
    "\n",
    "# Save the test ID columnn for the submission file\n",
    "test_ID = raw_test_df['Id']\n",
    "\n",
    "# Shuffle the training dataframe for better cross-validation performance\n",
    "raw_train_df = shuffle(raw_train_df).reset_index()\n",
    "\n",
    "# Combine train and test dataframes for consistency in encoding and replacing NaN values.\n",
    "joined_df = join_dataframes(raw_train_df, raw_test_df)\n",
    "\n",
    "# Transform numeric columns that should be strings\n",
    "transform_data_types(joined_df)\n",
    "\n",
    "# Clean data - remove outliers, replace NaN and log transform target\n",
    "clean_joined_df = clean_dataframe(joined_df, 'SalePrice')\n",
    "\n",
    "#reset target variable to log1p version of SalePrice\n",
    "target_var = 'log1pSalePrice'\n",
    "\n",
    "# One-hot encode categorical values\n",
    "print(\"Encoding data\")\n",
    "final_joined_df = one_hot_encode_feature_df(clean_joined_df, cat_vars=categorical_vars, num_vars=numeric_vars, tar_var=target_var)\n",
    "\n",
    "# Get test dataframe\n",
    "test_df = get_test_df(final_joined_df, target_var)\n",
    "\n",
    "# Get features dataframe\n",
    "feature_df = get_feature_df(final_joined_df, target_var)\n",
    "\n",
    "#get target df\n",
    "target_df = get_target_df(final_joined_df, target_var)"
   ]
  },
  {
   "cell_type": "code",
   "execution_count": 5,
   "metadata": {},
   "outputs": [],
   "source": [
    "#initialize model list and dicts\n",
    "models = []\n",
    "mean_rmse = {}\n",
    "cv_std = {}\n",
    "res = {}\n",
    "\n",
    "#define number of processes to run in parallel\n",
    "num_procs = 2\n",
    "\n",
    "#shared model paramaters\n",
    "verbose_lvl = 0"
   ]
  },
  {
   "cell_type": "code",
   "execution_count": 7,
   "metadata": {},
   "outputs": [
    {
     "name": "stdout",
     "output_type": "stream",
     "text": [
      "Beginning cross validation\n",
      "\n",
      "Model:\n",
      " LinearRegression(copy_X=True, fit_intercept=True, n_jobs=None, normalize=False)\n",
      "Average MSE:\n",
      " 0.20473109884227964\n",
      "Standard deviation during CV:\n",
      " 0.0025110187821631436\n",
      "\n",
      "Model:\n",
      " Pipeline(memory=None,\n",
      "         steps=[('standardscaler',\n",
      "                 StandardScaler(copy=True, with_mean=True, with_std=True)),\n",
      "                ('pca',\n",
      "                 PCA(copy=True, iterated_power='auto', n_components=None,\n",
      "                     random_state=None, svd_solver='auto', tol=0.0,\n",
      "                     whiten=False)),\n",
      "                ('linearregression',\n",
      "                 LinearRegression(copy_X=True, fit_intercept=True, n_jobs=None,\n",
      "                                  normalize=False))],\n",
      "         verbose=False)\n",
      "Average MSE:\n",
      " 103517493845.86737\n",
      "Standard deviation during CV:\n",
      " 66399184306.45688\n",
      "\n",
      "Model:\n",
      " RandomForestRegressor(bootstrap=True, criterion='mse', max_depth=25,\n",
      "                      max_features=30, max_leaf_nodes=None,\n",
      "                      min_impurity_decrease=0.0, min_impurity_split=None,\n",
      "                      min_samples_leaf=1, min_samples_split=60,\n",
      "                      min_weight_fraction_leaf=0.0, n_estimators=150, n_jobs=2,\n",
      "                      oob_score=False, random_state=None, verbose=0,\n",
      "                      warm_start=False)\n",
      "Average MSE:\n",
      " 0.18673351335735644\n",
      "Standard deviation during CV:\n",
      " 0.013353476542254106\n",
      "\n",
      "Model:\n",
      " GradientBoostingRegressor(alpha=0.9, criterion='friedman_mse', init=None,\n",
      "                          learning_rate=0.1, loss='ls', max_depth=5,\n",
      "                          max_features=None, max_leaf_nodes=None,\n",
      "                          min_impurity_decrease=0.0, min_impurity_split=None,\n",
      "                          min_samples_leaf=1, min_samples_split=2,\n",
      "                          min_weight_fraction_leaf=0.0, n_estimators=150,\n",
      "                          n_iter_no_change=None, presort='auto',\n",
      "                          random_state=None, subsample=1.0, tol=0.0001,\n",
      "                          validation_fraction=0.1, verbose=0, warm_start=False)\n",
      "Average MSE:\n",
      " 0.14001166788593303\n",
      "Standard deviation during CV:\n",
      " 0.00880532540558765\n",
      "\n",
      "Model:\n",
      " LinearRegression(copy_X=True, fit_intercept=True, n_jobs=None, normalize=False)\n",
      "Average MSE:\n",
      " 0.20473109884227964\n",
      "Standard deviation during CV:\n",
      " 0.0025110187821631436\n",
      "\n",
      "Model:\n",
      " Pipeline(memory=None,\n",
      "         steps=[('standardscaler',\n",
      "                 StandardScaler(copy=True, with_mean=True, with_std=True)),\n",
      "                ('pca',\n",
      "                 PCA(copy=True, iterated_power='auto', n_components=None,\n",
      "                     random_state=None, svd_solver='auto', tol=0.0,\n",
      "                     whiten=False)),\n",
      "                ('linearregression',\n",
      "                 LinearRegression(copy_X=True, fit_intercept=True, n_jobs=None,\n",
      "                                  normalize=False))],\n",
      "         verbose=False)\n",
      "Average MSE:\n",
      " 103517493845.86737\n",
      "Standard deviation during CV:\n",
      " 66399184306.45688\n",
      "\n",
      "Model:\n",
      " RandomForestRegressor(bootstrap=True, criterion='mse', max_depth=25,\n",
      "                      max_features=30, max_leaf_nodes=None,\n",
      "                      min_impurity_decrease=0.0, min_impurity_split=None,\n",
      "                      min_samples_leaf=1, min_samples_split=60,\n",
      "                      min_weight_fraction_leaf=0.0, n_estimators=150, n_jobs=2,\n",
      "                      oob_score=False, random_state=None, verbose=0,\n",
      "                      warm_start=False)\n",
      "Average MSE:\n",
      " 0.18867358637350892\n",
      "Standard deviation during CV:\n",
      " 0.013110030544294715\n",
      "\n",
      "Model:\n",
      " GradientBoostingRegressor(alpha=0.9, criterion='friedman_mse', init=None,\n",
      "                          learning_rate=0.1, loss='ls', max_depth=5,\n",
      "                          max_features=None, max_leaf_nodes=None,\n",
      "                          min_impurity_decrease=0.0, min_impurity_split=None,\n",
      "                          min_samples_leaf=1, min_samples_split=2,\n",
      "                          min_weight_fraction_leaf=0.0, n_estimators=150,\n",
      "                          n_iter_no_change=None, presort='auto',\n",
      "                          random_state=None, subsample=1.0, tol=0.0001,\n",
      "                          validation_fraction=0.1, verbose=0, warm_start=False)\n",
      "Average MSE:\n",
      " 0.1398847851501236\n",
      "Standard deviation during CV:\n",
      " 0.009489001942252981\n"
     ]
    }
   ],
   "source": [
    "#create models -- hyperparameter tuning already done by hand for each model\n",
    "lr = LinearRegression()\n",
    "lr_std_pca = make_pipeline(StandardScaler(), PCA(), LinearRegression())\n",
    "rf = RandomForestRegressor(n_estimators=150, n_jobs=num_procs, max_depth=25, min_samples_split=60, \\\n",
    "                           max_features=30, verbose=verbose_lvl)\n",
    "gbm = GradientBoostingRegressor(n_estimators=150, max_depth=5, loss='ls', verbose=verbose_lvl)\n",
    "                      \n",
    "models.extend([lr, lr_std_pca, rf, gbm])\n",
    "\n",
    "#parallel cross-validate models, using MSE as evaluation metric, and print summaries\n",
    "print(\"Beginning cross validation\")\n",
    "for model in models:\n",
    "    train_model(model, feature_df, target_df, num_procs, mean_rmse, cv_std)\n",
    "    print_summary(model, mean_rmse, cv_std)\n",
    "\n"
   ]
  },
  {
   "cell_type": "code",
   "execution_count": 8,
   "metadata": {},
   "outputs": [
    {
     "name": "stdout",
     "output_type": "stream",
     "text": [
      "\n",
      "Predictions calculated using model with lowest MSE:\n",
      "GradientBoostingRegressor(alpha=0.9, criterion='friedman_mse', init=None,\n",
      "                          learning_rate=0.1, loss='ls', max_depth=5,\n",
      "                          max_features=None, max_leaf_nodes=None,\n",
      "                          min_impurity_decrease=0.0, min_impurity_split=None,\n",
      "                          min_samples_leaf=1, min_samples_split=2,\n",
      "                          min_weight_fraction_leaf=0.0, n_estimators=150,\n",
      "                          n_iter_no_change=None, presort='auto',\n",
      "                          random_state=None, subsample=1.0, tol=0.0001,\n",
      "                          validation_fraction=0.1, verbose=0, warm_start=False)\n"
     ]
    }
   ],
   "source": [
    "#choose model with lowest mse\n",
    "model = min(mean_rmse, key=mean_rmse.get)\n",
    "print('\\nPredictions calculated using model with lowest MSE:')\n",
    "print(model)\n",
    "\n",
    "#train model on entire dataset\n",
    "model.fit(feature_df, target_df)\n",
    "\n",
    "#create predictions based on test data\n",
    "predictions = np.expm1(model.predict(test_df))"
   ]
  },
  {
   "cell_type": "code",
   "execution_count": 9,
   "metadata": {},
   "outputs": [],
   "source": [
    "#store feature importances\n",
    "if hasattr(model, 'feature_importances_'):\n",
    "    importances = model.feature_importances_\n",
    "else:\n",
    "    #linear models don't have feature_importances_\n",
    "    importances = [0]*len(feature_df.columns)\n",
    "    \n",
    "feature_importances = pd.DataFrame({'feature':feature_df.columns, 'importance':importances})\n",
    "feature_importances.sort_values(by='importance', ascending=False, inplace=True)\n",
    "#set index to 'feature'\n",
    "feature_importances.set_index('feature', inplace=True, drop=True)\n",
    "\n",
    "#save results\n",
    "save_results(model, mean_rmse[model], predictions, feature_importances)"
   ]
  },
  {
   "cell_type": "code",
   "execution_count": 10,
   "metadata": {},
   "outputs": [
    {
     "data": {
      "image/png": "[encoded data removed]",
      "text/plain": [
       "<Figure size 1440x720 with 1 Axes>"
      ]
     },
     "metadata": {
      "needs_background": "light"
     },
     "output_type": "display_data"
    }
   ],
   "source": [
    "feature_importances[0:25].plot.bar(figsize=(20,10))\n",
    "plt.show()"
   ]
  },
  {
   "cell_type": "code",
   "execution_count": 11,
   "metadata": {},
   "outputs": [
    {
     "name": "stdout",
     "output_type": "stream",
     "text": [
      "GradientBoostingRegressor(alpha=0.9, criterion='friedman_mse', init=None,\r\n",
      "                          learning_rate=0.1, loss='ls', max_depth=5,\r\n",
      "                          max_features=None, max_leaf_nodes=None,\r\n",
      "                          min_impurity_decrease=0.0, min_impurity_split=None,\r\n",
      "                          min_samples_leaf=1, min_samples_split=2,\r\n",
      "                          min_weight_fraction_leaf=0.0, n_estimators=150,\r\n",
      "                          n_iter_no_change=None, presort='auto',\r\n",
      "                          random_state=None, subsample=1.0, tol=0.0001,\r\n",
      "                          validation_fraction=0.1, verbose=0, warm_start=False)"
     ]
    }
   ],
   "source": [
    "!cat model.txt"
   ]
  },
  {
   "cell_type": "code",
   "execution_count": 12,
   "metadata": {},
   "outputs": [
    {
     "name": "stdout",
     "output_type": "stream",
     "text": [
      "feature,importance\r\n",
      "OverallQual,0.5445203294711064\r\n",
      "GrLivArea,0.12484795275063904\r\n",
      "TotalBsmtSF,0.05202833317400822\r\n",
      "GarageCars,0.038563002791448364\r\n",
      "BsmtFinSF1,0.023829900255212224\r\n",
      "GarageArea,0.019305536039646957\r\n",
      "OverallCond,0.01748288529944407\r\n",
      "1stFlrSF,0.017476626442783662\r\n",
      "CentralAir_Y,0.016393066969387093\r\n"
     ]
    }
   ],
   "source": [
    "!head feature_importances.csv"
   ]
  },
  {
   "cell_type": "code",
   "execution_count": 13,
   "metadata": {},
   "outputs": [
    {
     "name": "stdout",
     "output_type": "stream",
     "text": [
      "1.197928682830985344e+05\r\n",
      "1.553612639795145660e+05\r\n",
      "1.829623346516409074e+05\r\n",
      "1.880007696396223619e+05\r\n",
      "1.854903374507589615e+05\r\n",
      "1.702423919575684995e+05\r\n",
      "1.655112957712933712e+05\r\n",
      "1.645695089144066151e+05\r\n",
      "1.824951676969634136e+05\r\n",
      "1.241182894164236641e+05\r\n"
     ]
    }
   ],
   "source": [
    "!head predictions.csv"
   ]
  },
  {
   "cell_type": "code",
   "execution_count": 14,
   "metadata": {},
   "outputs": [],
   "source": [
    "create_submission(test_df, test_ID, predictions)"
   ]
  },
  {
   "cell_type": "code",
   "execution_count": null,
   "metadata": {},
   "outputs": [],
   "source": [
    "\n"
   ]
  },
  {
   "cell_type": "code",
   "execution_count": null,
   "metadata": {},
   "outputs": [],
   "source": []
  }
 ],
 "metadata": {
  "kernelspec": {
   "display_name": "Python 3",
   "language": "python",
   "name": "python3"
  },
  "language_info": {
   "codemirror_mode": {
    "name": "ipython",
    "version": 3
   },
   "file_extension": ".py",
   "mimetype": "text/x-python",
   "name": "python",
   "nbconvert_exporter": "python",
   "pygments_lexer": "ipython3",
   "version": "3.7.4"
  }
 },
 "nbformat": 4,
 "nbformat_minor": 2
}
